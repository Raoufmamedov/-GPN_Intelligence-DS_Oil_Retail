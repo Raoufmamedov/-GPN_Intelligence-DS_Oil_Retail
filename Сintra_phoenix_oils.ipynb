{
  "cells": [
    {
      "cell_type": "markdown",
      "metadata": {
        "id": "view-in-github",
        "colab_type": "text"
      },
      "source": [
        "<a href=\"https://colab.research.google.com/github/Raoufmamedov/-GPN_Intelligence-DS_Oil_Retail/blob/main/%D0%A1intra_phoenix_oils.ipynb\" target=\"_parent\"><img src=\"https://colab.research.google.com/assets/colab-badge.svg\" alt=\"Open In Colab\"/></a>"
      ]
    },
    {
      "cell_type": "code",
      "execution_count": 1,
      "id": "bdb6dd19-201b-4298-ac81-e31e228e3e2d",
      "metadata": {
        "id": "bdb6dd19-201b-4298-ac81-e31e228e3e2d",
        "colab": {
          "base_uri": "https://localhost:8080/"
        },
        "outputId": "9cf0f23d-154d-405f-9857-8c9bbca81111"
      },
      "outputs": [
        {
          "output_type": "stream",
          "name": "stderr",
          "text": [
            "[nltk_data] Downloading package stopwords to /root/nltk_data...\n",
            "[nltk_data]   Unzipping corpora/stopwords.zip.\n"
          ]
        },
        {
          "output_type": "stream",
          "name": "stdout",
          "text": [
            "Collecting pyaspeller\n",
            "  Downloading pyaspeller-2.0.2-py3-none-any.whl.metadata (15 kB)\n",
            "Requirement already satisfied: requests>=2.32.3 in /usr/local/lib/python3.12/dist-packages (from pyaspeller) (2.32.4)\n",
            "Requirement already satisfied: charset_normalizer<4,>=2 in /usr/local/lib/python3.12/dist-packages (from requests>=2.32.3->pyaspeller) (3.4.3)\n",
            "Requirement already satisfied: idna<4,>=2.5 in /usr/local/lib/python3.12/dist-packages (from requests>=2.32.3->pyaspeller) (3.10)\n",
            "Requirement already satisfied: urllib3<3,>=1.21.1 in /usr/local/lib/python3.12/dist-packages (from requests>=2.32.3->pyaspeller) (2.5.0)\n",
            "Requirement already satisfied: certifi>=2017.4.17 in /usr/local/lib/python3.12/dist-packages (from requests>=2.32.3->pyaspeller) (2025.8.3)\n",
            "Downloading pyaspeller-2.0.2-py3-none-any.whl (16 kB)\n",
            "Installing collected packages: pyaspeller\n",
            "Successfully installed pyaspeller-2.0.2\n"
          ]
        }
      ],
      "source": [
        "import pandas as pd\n",
        "import numpy as np\n",
        "import seaborn as sns\n",
        "import matplotlib.pyplot as plt\n",
        "import os\n",
        "from sklearn.model_selection import train_test_split\n",
        "from sklearn.feature_extraction.text import TfidfVectorizer\n",
        "from collections import Counter\n",
        "import string\n",
        "import re\n",
        "import time\n",
        "from wordcloud import WordCloud\n",
        "import nltk\n",
        "nltk.download('stopwords')\n",
        "from nltk.corpus import stopwords\n",
        "from nltk.tokenize import word_tokenize\n",
        "from nltk import download as nltk_download\n",
        "from nltk.stem import WordNetLemmatizer\n",
        "!pip install pyaspeller\n",
        "from pyaspeller import YandexSpeller"
      ]
    },
    {
      "cell_type": "code",
      "source": [
        "from pyaspeller import YandexSpeller\n",
        "def spellcheck(text):\n",
        "    speller = YandexSpeller()\n",
        "    changes = {change['word']: change['s'][0] for change in speller.spell(text)}\n",
        "    for word, suggestion in changes.items():\n",
        "            text = text.replace(word, suggestion)\n",
        "    return text"
      ],
      "metadata": {
        "id": "Z8efMqsJE_jS"
      },
      "id": "Z8efMqsJE_jS",
      "execution_count": 2,
      "outputs": []
    },
    {
      "cell_type": "code",
      "source": [
        "# from pyaspeller import YandexSpeller\n",
        "# import re\n",
        "# from multiprocessing import Pool\n",
        "\n",
        "# def spellcheck_word(word):\n",
        "#     speller = YandexSpeller()\n",
        "#     changes = speller.spell(word)  # Обратите внимание: speller.spell(word), а не ' '.join(words)\n",
        "#     if word in changes:\n",
        "#         return changes[word]['s'][0]\n",
        "#     return word\n",
        "\n",
        "# def spellcheck(text):\n",
        "#     words = re.findall(r'\\b\\w+\\b', text)\n",
        "#     with Pool() as pool:\n",
        "#         corrected_words = pool.map(spellcheck_word, words)\n",
        "#     return ' '.join(corrected_words)\n",
        "\n"
      ],
      "metadata": {
        "id": "ljsGFFOxNBiV"
      },
      "id": "ljsGFFOxNBiV",
      "execution_count": 3,
      "outputs": []
    },
    {
      "cell_type": "code",
      "source": [
        "sw=set(stopwords.words(\"russian\"))"
      ],
      "metadata": {
        "id": "I18oRXFseJip"
      },
      "id": "I18oRXFseJip",
      "execution_count": 4,
      "outputs": []
    },
    {
      "cell_type": "code",
      "source": [
        "# !pip install torch torchvision torchaudio"
      ],
      "metadata": {
        "id": "myvgl6Z-SYEk"
      },
      "id": "myvgl6Z-SYEk",
      "execution_count": 5,
      "outputs": []
    },
    {
      "cell_type": "markdown",
      "source": [
        "Загружаем основные необходимые нам библиотеки и убеждаемся в том что мы задействуем графический процессор"
      ],
      "metadata": {
        "id": "Gt92rnI1XgyX"
      },
      "id": "Gt92rnI1XgyX"
    },
    {
      "cell_type": "code",
      "source": [
        "from google.colab import drive\n",
        "drive.mount('/content/drive')\n",
        "os.chdir(\"/content/drive/My Drive/Colab Notebooks\")"
      ],
      "metadata": {
        "colab": {
          "base_uri": "https://localhost:8080/"
        },
        "id": "rGWWl2L9KF9N",
        "outputId": "a3126850-51f2-467a-e79b-d25690f02525"
      },
      "id": "rGWWl2L9KF9N",
      "execution_count": 6,
      "outputs": [
        {
          "output_type": "stream",
          "name": "stdout",
          "text": [
            "Mounted at /content/drive\n"
          ]
        }
      ]
    },
    {
      "cell_type": "code",
      "source": [
        "!nvidia-smi"
      ],
      "metadata": {
        "colab": {
          "base_uri": "https://localhost:8080/"
        },
        "id": "YgOHXwOJSBE0",
        "outputId": "99c990f4-f72a-41c2-94b0-cb57cda5029b"
      },
      "id": "YgOHXwOJSBE0",
      "execution_count": 7,
      "outputs": [
        {
          "output_type": "stream",
          "name": "stdout",
          "text": [
            "/bin/bash: line 1: nvidia-smi: command not found\n"
          ]
        }
      ]
    },
    {
      "cell_type": "code",
      "execution_count": 8,
      "id": "82c988f2-bcb6-4e60-ad08-87a303fde28a",
      "metadata": {
        "id": "82c988f2-bcb6-4e60-ad08-87a303fde28a"
      },
      "outputs": [],
      "source": [
        "pd.set_option('display.max_rows', 50)\n",
        "pd.set_option('display.max_colwidth', 150)"
      ]
    },
    {
      "cell_type": "markdown",
      "source": [
        "Загружаем и смотрим текст"
      ],
      "metadata": {
        "id": "w4CwP2XOQbsF"
      },
      "id": "w4CwP2XOQbsF"
    },
    {
      "cell_type": "code",
      "source": [
        "df=pd.read_json('./cintra_phoenix_oils_hr_mgck_feather.json')"
      ],
      "metadata": {
        "id": "ef05jKWfGAOE",
        "colab": {
          "base_uri": "https://localhost:8080/",
          "height": 318
        },
        "outputId": "1dde3a9e-98b4-4eae-b9e4-d37c6103f4d3"
      },
      "id": "ef05jKWfGAOE",
      "execution_count": 9,
      "outputs": [
        {
          "output_type": "error",
          "ename": "FileNotFoundError",
          "evalue": "File ./cintra_phoenix_oils_hr_mgck_feather.json does not exist",
          "traceback": [
            "\u001b[0;31m---------------------------------------------------------------------------\u001b[0m",
            "\u001b[0;31mFileNotFoundError\u001b[0m                         Traceback (most recent call last)",
            "\u001b[0;32m/tmp/ipython-input-1188204017.py\u001b[0m in \u001b[0;36m<cell line: 0>\u001b[0;34m()\u001b[0m\n\u001b[0;32m----> 1\u001b[0;31m \u001b[0mdf\u001b[0m\u001b[0;34m=\u001b[0m\u001b[0mpd\u001b[0m\u001b[0;34m.\u001b[0m\u001b[0mread_json\u001b[0m\u001b[0;34m(\u001b[0m\u001b[0;34m'./cintra_phoenix_oils_hr_mgck_feather.json'\u001b[0m\u001b[0;34m)\u001b[0m\u001b[0;34m\u001b[0m\u001b[0;34m\u001b[0m\u001b[0m\n\u001b[0m",
            "\u001b[0;32m/usr/local/lib/python3.12/dist-packages/pandas/io/json/_json.py\u001b[0m in \u001b[0;36mread_json\u001b[0;34m(path_or_buf, orient, typ, dtype, convert_axes, convert_dates, keep_default_dates, precise_float, date_unit, encoding, encoding_errors, lines, chunksize, compression, nrows, storage_options, dtype_backend, engine)\u001b[0m\n\u001b[1;32m    789\u001b[0m         \u001b[0mconvert_axes\u001b[0m \u001b[0;34m=\u001b[0m \u001b[0;32mTrue\u001b[0m\u001b[0;34m\u001b[0m\u001b[0;34m\u001b[0m\u001b[0m\n\u001b[1;32m    790\u001b[0m \u001b[0;34m\u001b[0m\u001b[0m\n\u001b[0;32m--> 791\u001b[0;31m     json_reader = JsonReader(\n\u001b[0m\u001b[1;32m    792\u001b[0m         \u001b[0mpath_or_buf\u001b[0m\u001b[0;34m,\u001b[0m\u001b[0;34m\u001b[0m\u001b[0;34m\u001b[0m\u001b[0m\n\u001b[1;32m    793\u001b[0m         \u001b[0morient\u001b[0m\u001b[0;34m=\u001b[0m\u001b[0morient\u001b[0m\u001b[0;34m,\u001b[0m\u001b[0;34m\u001b[0m\u001b[0;34m\u001b[0m\u001b[0m\n",
            "\u001b[0;32m/usr/local/lib/python3.12/dist-packages/pandas/io/json/_json.py\u001b[0m in \u001b[0;36m__init__\u001b[0;34m(self, filepath_or_buffer, orient, typ, dtype, convert_axes, convert_dates, keep_default_dates, precise_float, date_unit, encoding, lines, chunksize, compression, nrows, storage_options, encoding_errors, dtype_backend, engine)\u001b[0m\n\u001b[1;32m    902\u001b[0m             \u001b[0mself\u001b[0m\u001b[0;34m.\u001b[0m\u001b[0mdata\u001b[0m \u001b[0;34m=\u001b[0m \u001b[0mfilepath_or_buffer\u001b[0m\u001b[0;34m\u001b[0m\u001b[0;34m\u001b[0m\u001b[0m\n\u001b[1;32m    903\u001b[0m         \u001b[0;32melif\u001b[0m \u001b[0mself\u001b[0m\u001b[0;34m.\u001b[0m\u001b[0mengine\u001b[0m \u001b[0;34m==\u001b[0m \u001b[0;34m\"ujson\"\u001b[0m\u001b[0;34m:\u001b[0m\u001b[0;34m\u001b[0m\u001b[0;34m\u001b[0m\u001b[0m\n\u001b[0;32m--> 904\u001b[0;31m             \u001b[0mdata\u001b[0m \u001b[0;34m=\u001b[0m \u001b[0mself\u001b[0m\u001b[0;34m.\u001b[0m\u001b[0m_get_data_from_filepath\u001b[0m\u001b[0;34m(\u001b[0m\u001b[0mfilepath_or_buffer\u001b[0m\u001b[0;34m)\u001b[0m\u001b[0;34m\u001b[0m\u001b[0;34m\u001b[0m\u001b[0m\n\u001b[0m\u001b[1;32m    905\u001b[0m             \u001b[0mself\u001b[0m\u001b[0;34m.\u001b[0m\u001b[0mdata\u001b[0m \u001b[0;34m=\u001b[0m \u001b[0mself\u001b[0m\u001b[0;34m.\u001b[0m\u001b[0m_preprocess_data\u001b[0m\u001b[0;34m(\u001b[0m\u001b[0mdata\u001b[0m\u001b[0;34m)\u001b[0m\u001b[0;34m\u001b[0m\u001b[0;34m\u001b[0m\u001b[0m\n\u001b[1;32m    906\u001b[0m \u001b[0;34m\u001b[0m\u001b[0m\n",
            "\u001b[0;32m/usr/local/lib/python3.12/dist-packages/pandas/io/json/_json.py\u001b[0m in \u001b[0;36m_get_data_from_filepath\u001b[0;34m(self, filepath_or_buffer)\u001b[0m\n\u001b[1;32m    958\u001b[0m             \u001b[0;32mand\u001b[0m \u001b[0;32mnot\u001b[0m \u001b[0mfile_exists\u001b[0m\u001b[0;34m(\u001b[0m\u001b[0mfilepath_or_buffer\u001b[0m\u001b[0;34m)\u001b[0m\u001b[0;34m\u001b[0m\u001b[0;34m\u001b[0m\u001b[0m\n\u001b[1;32m    959\u001b[0m         ):\n\u001b[0;32m--> 960\u001b[0;31m             \u001b[0;32mraise\u001b[0m \u001b[0mFileNotFoundError\u001b[0m\u001b[0;34m(\u001b[0m\u001b[0;34mf\"File {filepath_or_buffer} does not exist\"\u001b[0m\u001b[0;34m)\u001b[0m\u001b[0;34m\u001b[0m\u001b[0;34m\u001b[0m\u001b[0m\n\u001b[0m\u001b[1;32m    961\u001b[0m         \u001b[0;32melse\u001b[0m\u001b[0;34m:\u001b[0m\u001b[0;34m\u001b[0m\u001b[0;34m\u001b[0m\u001b[0m\n\u001b[1;32m    962\u001b[0m             warnings.warn(\n",
            "\u001b[0;31mFileNotFoundError\u001b[0m: File ./cintra_phoenix_oils_hr_mgck_feather.json does not exist"
          ]
        }
      ]
    },
    {
      "cell_type": "code",
      "source": [
        "df.head(15)"
      ],
      "metadata": {
        "id": "a3W3_9cXQWv7"
      },
      "id": "a3W3_9cXQWv7",
      "execution_count": null,
      "outputs": []
    },
    {
      "cell_type": "code",
      "source": [
        "df=df.set_index('id')"
      ],
      "metadata": {
        "id": "dYDMeD5wNFaZ"
      },
      "id": "dYDMeD5wNFaZ",
      "execution_count": null,
      "outputs": []
    },
    {
      "cell_type": "markdown",
      "source": [
        "Для тематического моделирования, а именно к нему и относится решаемая задача, наличие знаков препинания в тексте не является критичным. В конце концов даже сложносоставные дефисные слова у нас состоят из слов следующих в определённом порядке, в этом смысле они мало чем отличаются от слов в устойчивых словосочетаниях. Исходя из этого предположения, очистим наш текст от знаков пепинания, которые прилипая к слову, создают его искажённые формы, а заодно приведём весь текст к нижнему регистру"
      ],
      "metadata": {
        "id": "5CkQE6TOQjEk"
      },
      "id": "5CkQE6TOQjEk"
    },
    {
      "cell_type": "code",
      "source": [
        "df.quote=df.quote.apply(lambda x: re.sub(r'[^\\w\\s]', '', x)).str.lower()\n",
        "df.quote"
      ],
      "metadata": {
        "id": "csoKOGP5PTZ5"
      },
      "id": "csoKOGP5PTZ5",
      "execution_count": null,
      "outputs": []
    },
    {
      "cell_type": "code",
      "source": [
        "# os.listdir()"
      ],
      "metadata": {
        "id": "W-l5lJHnKW4f"
      },
      "id": "W-l5lJHnKW4f",
      "execution_count": null,
      "outputs": []
    },
    {
      "cell_type": "code",
      "source": [
        "pwd"
      ],
      "metadata": {
        "id": "4_XmhiRvMp-N"
      },
      "id": "4_XmhiRvMp-N",
      "execution_count": null,
      "outputs": []
    },
    {
      "cell_type": "markdown",
      "source": [],
      "metadata": {
        "id": "eLdZcUzqSqrf"
      },
      "id": "eLdZcUzqSqrf"
    },
    {
      "cell_type": "markdown",
      "source": [
        "Мы видим что в начале текста часто идёт приветствие \"мурр/муrr\". Найдём все формы и добавим их в стоп-лист.\n"
      ],
      "metadata": {
        "id": "cF3Byx-QDebD"
      },
      "id": "cF3Byx-QDebD"
    },
    {
      "cell_type": "code",
      "source": [
        "import re\n",
        "\n",
        "def myrr_words(text, patterns):\n",
        "    words = text.split()\n",
        "    matched_words = [word for word in words if any(re.search(pattern, word, re.IGNORECASE) for pattern in patterns)]\n",
        "    return matched_words"
      ],
      "metadata": {
        "id": "y7g_QKkk-Jfd"
      },
      "id": "y7g_QKkk-Jfd",
      "execution_count": null,
      "outputs": []
    },
    {
      "cell_type": "code",
      "source": [
        "patterns = ['мур', 'муrr', 'ммур', 'мyp', 'муrr']\n",
        "myrr = df.quote.apply(lambda x: myrr_words(x, patterns))\n",
        "myrr_sw=list(set(pd.Series([word for sublist in myrr for word in sublist]).values))"
      ],
      "metadata": {
        "id": "_02xgZCg84i_"
      },
      "id": "_02xgZCg84i_",
      "execution_count": null,
      "outputs": []
    },
    {
      "cell_type": "code",
      "source": [
        "myrr_sw=[myrr for myrr in myrr_sw if myrr not in ['мурривеле', 'мурривеле,',\n",
        "                                         'мурривеле', 'мурривелле', 'мурривель',\n",
        "                                         'мурривель,', 'мурривеля',\n",
        "                                         'мурриивеле','муривеле', 'хмуро']]\n",
        "\n",
        "myrr_sw"
      ],
      "metadata": {
        "id": "_nQHjUjAKmnu"
      },
      "id": "_nQHjUjAKmnu",
      "execution_count": null,
      "outputs": []
    },
    {
      "cell_type": "code",
      "source": [
        "sw.update(myrr_sw)\n"
      ],
      "metadata": {
        "id": "wHTfKHjJMrE1"
      },
      "id": "wHTfKHjJMrE1",
      "execution_count": null,
      "outputs": []
    },
    {
      "cell_type": "markdown",
      "source": [
        "Также, добавим в стоп-лист стоп-слова из стоплиста ВШЭ."
      ],
      "metadata": {
        "id": "pHSmozLmVgCi"
      },
      "id": "pHSmozLmVgCi"
    },
    {
      "cell_type": "code",
      "source": [
        "!wget https://raw.githubusercontent.com/dhhse/dh2020/master/data/stop_ru.txt"
      ],
      "metadata": {
        "id": "mbCe2XkjwWpu"
      },
      "id": "mbCe2XkjwWpu",
      "execution_count": null,
      "outputs": []
    },
    {
      "cell_type": "code",
      "source": [
        "hsesw=pd.read_csv('stop_ru.txt', header=None)[0].to_list()\n",
        "sw.update(hsesw)"
      ],
      "metadata": {
        "id": "hQY54-t5wZFX"
      },
      "id": "hQY54-t5wZFX",
      "execution_count": null,
      "outputs": []
    },
    {
      "cell_type": "markdown",
      "source": [
        "### Первичная очистка от стоп-слов"
      ],
      "metadata": {
        "id": "fYXtf0s7V7VS"
      },
      "id": "fYXtf0s7V7VS"
    },
    {
      "cell_type": "markdown",
      "source": [
        "Как мы видим, в тексте большое количество грамматических ошибок и опечаток. В таком виде как он есть, его использовать нельзя, необходимо предварительно очистить его и поправить ошибочные написания, а также, при необходимости провести его нормализацию (лемматизацию).\n",
        "\n",
        "\n",
        "Для начала очистим тексты от стоп-слов, для того чтобы облегчить последующую проверку написания. Для контроля этого процесса, будем фиксировать количество символов и слов до и после очистки, а полученные разницы (относительные), будем визуализировать"
      ],
      "metadata": {
        "id": "Z6NqOxoYYIvP"
      },
      "id": "Z6NqOxoYYIvP"
    },
    {
      "cell_type": "code",
      "source": [
        "df['wc_0']=df.quote.apply(lambda x: len(x.split(' ')))\n",
        "df['len_0']=df.quote.str.len()\n",
        "df.quote=df.quote.apply(lambda x: ' '.join([word for word in x.split() if word.lower() not in sw]))\n",
        "df['wc_1']=df.quote.apply(lambda x: len(x.split(' ')))\n",
        "df['len_1']=df.quote.str.len()\n",
        "df['wr']=100*(1-df['wc_1']/df['wc_0']).round(3) # процентное уменьшение количества слов\n",
        "df['lenr']=100*(1-df['len_1']/df['len_0']).round(3) # процентное уменьшение длины строки\n",
        "df[['wr', 'lenr']].head().T"
      ],
      "metadata": {
        "id": "MMyiacN1bll6"
      },
      "id": "MMyiacN1bll6",
      "execution_count": null,
      "outputs": []
    },
    {
      "cell_type": "code",
      "source": [
        "df[['wr', 'lenr']].describe().T.round(1)"
      ],
      "metadata": {
        "id": "1ND5whNTiDfh"
      },
      "id": "1ND5whNTiDfh",
      "execution_count": null,
      "outputs": []
    },
    {
      "cell_type": "code",
      "source": [
        "sns.histplot(df[['wr', 'lenr']], kde=True)\n",
        "plt.title('распределение разниц количества слов и длины строки')\n",
        "plt.show()"
      ],
      "metadata": {
        "id": "i3WBwjRKfX5w"
      },
      "id": "i3WBwjRKfX5w",
      "execution_count": null,
      "outputs": []
    },
    {
      "cell_type": "markdown",
      "source": [
        "Полученные данные позволяют нам сделать следующие выводы:\n",
        "\n",
        "\n",
        "1. Значительное сокращение количества слов и длины строки: примерно половина слов в тексте были стоп-словами и после их удаления длина строки уменьшилась более чем на 30 %.\n",
        "2. Оба распределения нормальны и смещены друг относительно друга. Медианное wr (50.7 %) значительно больше, чем медианное lenr (30,6 %), что говорит о наличии большого количества коротких стоп-слов, таких как предлоги (\"в\", \"на\", \"из\"), союзы (\"а\", \"и\") и пр.\n",
        "3. Довольно высокая вариативность в уменьшении количества слов и длины строки в разных предложениях,  и практически одинаковое стандартное отклонение 9.9 для wr(\"количество слов\") и 10 для lenr (\"длина строки\").\n",
        "\n",
        "Посмотрим как выглядит их совместное распределение:"
      ],
      "metadata": {
        "id": "BuVDnRflj3tj"
      },
      "id": "BuVDnRflj3tj"
    },
    {
      "cell_type": "code",
      "source": [
        "sns.jointplot(data=df, x='lenr', y='wr')\n",
        "plt.axvline(x=df.lenr.median(), color='crimson', label='медиана lenr', linestyle='--')\n",
        "plt.axhline(y=df.wr.median(), color='crimson', label='медиана wr', linestyle='--')\n",
        "plt.grid()\n",
        "plt.show()"
      ],
      "metadata": {
        "id": "Aqo8Lfch2Qcm"
      },
      "id": "Aqo8Lfch2Qcm",
      "execution_count": null,
      "outputs": []
    },
    {
      "cell_type": "markdown",
      "source": [
        "Ожидаемо, мы имеем линейную зависимость. Из данного графика видно, что у насимеется одна строка, которая изначально не содержала ничего \"лишнего\". Вот её содержание:"
      ],
      "metadata": {
        "id": "y99AvXqyzLaM"
      },
      "id": "y99AvXqyzLaM"
    },
    {
      "cell_type": "code",
      "source": [
        "df[df['lenr']==0].quote"
      ],
      "metadata": {
        "id": "hNnMyN4FyvLy"
      },
      "id": "hNnMyN4FyvLy",
      "execution_count": null,
      "outputs": []
    },
    {
      "cell_type": "markdown",
      "source": [
        "Все ли общераспространённые слова мы удалили, или нам нужно доудалить какие-то слова?  Посмотрим, какими словами изобилует наш текст."
      ],
      "metadata": {
        "id": "9FpckCxX-Wii"
      },
      "id": "9FpckCxX-Wii"
    },
    {
      "cell_type": "markdown",
      "source": [
        "Посмотрим, какими словами изобилует наш текст."
      ],
      "metadata": {
        "id": "xVoMWZUu0kna"
      },
      "id": "xVoMWZUu0kna"
    },
    {
      "cell_type": "code",
      "source": [],
      "metadata": {
        "id": "qyU75Wx3eA79"
      },
      "id": "qyU75Wx3eA79",
      "execution_count": null,
      "outputs": []
    },
    {
      "cell_type": "code",
      "source": [
        "def word_freq(df):\n",
        "  plt.figure( figsize=(7,6) )\n",
        "  wstr=' '.join(df)\n",
        "  wl=wstr.split(\" \")\n",
        "  wfd=pd.DataFrame(Counter(wl), index=['Qty']).T.sort_values('Qty', ascending=False)\n",
        "  wordcloud = WordCloud(width=700, height=600, margin=1).generate(wstr)\n",
        "  plt.imshow(wordcloud)\n",
        "  plt.axis(\"off\")\n",
        "  plt.margins(x=0, y=0)\n",
        "  plt.show()\n",
        "  return wfd"
      ],
      "metadata": {
        "id": "FwDZQ9u3dbd3"
      },
      "id": "FwDZQ9u3dbd3",
      "execution_count": null,
      "outputs": []
    },
    {
      "cell_type": "code",
      "source": [
        "corpus_wf=word_freq(df.quote)"
      ],
      "metadata": {
        "id": "uJDg3FbSezFR"
      },
      "id": "uJDg3FbSezFR",
      "execution_count": null,
      "outputs": []
    },
    {
      "cell_type": "code",
      "source": [
        "corpus_wf.head(20).T"
      ],
      "metadata": {
        "id": "--mdN8qKSNKu"
      },
      "id": "--mdN8qKSNKu",
      "execution_count": null,
      "outputs": []
    },
    {
      "cell_type": "markdown",
      "source": [
        "Итак, у нас самым популярным словом является слово дон. Возможно речь идёт о благородных донах, или о региональных офисах на юге Цитрии? Посмотри контексты использования этого слова"
      ],
      "metadata": {
        "id": "QGbDKabdYS8Z"
      },
      "id": "QGbDKabdYS8Z"
    },
    {
      "cell_type": "code",
      "source": [
        "pd.set_option('display.max_colwidth', 130)\n",
        "display(df.quote[df.quote.str.contains('дон')].head(5))\n",
        "pd.set_option('display.max_colwidth', 70)"
      ],
      "metadata": {
        "id": "vW6MokvbYaMT"
      },
      "id": "vW6MokvbYaMT",
      "execution_count": null,
      "outputs": []
    },
    {
      "cell_type": "markdown",
      "source": [
        "Как мы видим, данное слово почти всегда не несёт в себе никакого смысла, являясь скорее всего паразитом или междометием. И тут мы кое что вспоминаем :)"
      ],
      "metadata": {
        "id": "Bojf9jpWqWFo"
      },
      "id": "Bojf9jpWqWFo"
    },
    {
      "cell_type": "markdown",
      "source": [
        "![med_1670821289_image.jpg](data:image/jpeg;base64,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)\n",
        "\n",
        "\n",
        "\n",
        "> «Это \"дуй хьунан\", я для связки слов говорю, как \"короче говоря\" вот»\n",
        ">\n",
        "\n",
        "> Рамзан Кадыров, Глава Чеченской Республики\n",
        "\n",
        "\n",
        "\n",
        "\n"
      ],
      "metadata": {
        "id": "hXALSuf0r20C"
      },
      "id": "hXALSuf0r20C"
    },
    {
      "cell_type": "markdown",
      "source": [
        "Как мы видим, эта связка популярна не только в Чечне. Маловероятно, что это слово как-то поможет нам разделить темы, поэтому мы избавляемся от него. Также нам надо разобраться со словами содержащими и не содержащими \"змс\"/\"зсм\" и \"цмф\" (заводы как я понимаю)"
      ],
      "metadata": {
        "id": "QtRlMMCeu5h9"
      },
      "id": "QtRlMMCeu5h9"
    },
    {
      "cell_type": "markdown",
      "source": [
        "Разделим датасет на подгруппы содержащие и не содержащие эти слова, и посмотрим как в них распределены слова"
      ],
      "metadata": {
        "id": "49UYjut9hGWw"
      },
      "id": "49UYjut9hGWw"
    },
    {
      "cell_type": "code",
      "source": [
        "condition = df['quote'].str.contains('зсм|цмф|змс|дон', case=False)\n",
        "wo, w=[*df.groupby(condition).quote]"
      ],
      "metadata": {
        "id": "8S7HPWGnjjbc"
      },
      "id": "8S7HPWGnjjbc",
      "execution_count": null,
      "outputs": []
    },
    {
      "cell_type": "code",
      "source": [
        "word_freq(w[1])[:20].T"
      ],
      "metadata": {
        "id": "a8ndCn9ChPAt"
      },
      "id": "a8ndCn9ChPAt",
      "execution_count": null,
      "outputs": []
    },
    {
      "cell_type": "code",
      "source": [
        "word_freq(wo[1])[:20].T"
      ],
      "metadata": {
        "id": "MS6-3B3M1S38"
      },
      "id": "MS6-3B3M1S38",
      "execution_count": null,
      "outputs": []
    },
    {
      "cell_type": "markdown",
      "source": [
        "Мы видим что мешки слов с этими словами и без них не сильно отличаются, дач что их удаление. по всей видимости не причинит вреда. Удаляем эти слова и ранее обсуждавшиеся слова, а также слова паразиты и малозначимые слова который нам встречаются в этих мешках."
      ],
      "metadata": {
        "id": "_UlHTI8E25HN"
      },
      "id": "_UlHTI8E25HN"
    },
    {
      "cell_type": "code",
      "source": [
        "abnd_sw=['дон', 'цмф',\t'змс', 'зсм',\t'понимаешь',\t'както', 'вроде', 'например',\n",
        "         'скать',\t'масло',\t'масла', 'цк', 'конкретно', 'говорят', 'както',\n",
        "         'чтото',\t'вообще',\t'цк',\t'работа',\t'этo', 'знаю',\t'равно', 'походу', 'ктото']"
      ],
      "metadata": {
        "id": "IyXebySk2V0B"
      },
      "id": "IyXebySk2V0B",
      "execution_count": null,
      "outputs": []
    },
    {
      "cell_type": "code",
      "source": [
        "sw.update(abnd_sw)"
      ],
      "metadata": {
        "id": "jmKKJNnC5cE5"
      },
      "id": "jmKKJNnC5cE5",
      "execution_count": null,
      "outputs": []
    },
    {
      "cell_type": "code",
      "source": [
        "df.quote=df.quote.apply(lambda x: ' '.join([word for word in x.split() if word.lower() not in sw]))"
      ],
      "metadata": {
        "id": "rwROvJAC6Zy-"
      },
      "id": "rwROvJAC6Zy-",
      "execution_count": null,
      "outputs": []
    },
    {
      "cell_type": "markdown",
      "source": [
        "Посмотрим на очищенный текст"
      ],
      "metadata": {
        "id": "hxmqYsA0U71c"
      },
      "id": "hxmqYsA0U71c"
    },
    {
      "cell_type": "code",
      "source": [
        "df.quote.head()"
      ],
      "metadata": {
        "id": "sb8XNz9N77ia"
      },
      "id": "sb8XNz9N77ia",
      "execution_count": null,
      "outputs": []
    },
    {
      "cell_type": "markdown",
      "source": [
        "Текст содержит большое количество опечаток и задвоений. Попробуем его очистить.\n",
        "\n",
        "Были предприняты попытки исправить ошибки с помощью DeepPavlov, но при попытке осуществить это на компьютере, возникли сложности с совместимостью пакетов. На колабе был опробован спеллчеккер на модели 'UrukHan/t5-russian-spell' (https://huggingface.co/UrukHan/t5-russian-spell), но модель работала очень долго (15 минут) и требовала использования GPU.\n",
        "\n",
        "Поиск альтернативного решения привёл к спел-чеккеру Yandex, который и был использован. При меньших временных затратах (около 9 минут), программа обошлась использованием CPU."
      ],
      "metadata": {
        "id": "DnNoXMTqUzzV"
      },
      "id": "DnNoXMTqUzzV"
    },
    {
      "cell_type": "code",
      "source": [
        "s_t=time.time()\n",
        "df_quote_schke=df.quote.apply(spellcheck)\n",
        "e_t=time.time()\n",
        "delta=e_t-s_t"
      ],
      "metadata": {
        "id": "OFE4BAhCHcre"
      },
      "execution_count": null,
      "outputs": [],
      "id": "OFE4BAhCHcre"
    },
    {
      "cell_type": "code",
      "source": [
        "\n",
        "print(delta/60)"
      ],
      "metadata": {
        "id": "r2NWVl7DYAoe"
      },
      "id": "r2NWVl7DYAoe",
      "execution_count": null,
      "outputs": []
    },
    {
      "cell_type": "code",
      "source": [
        "pd.DataFrame([df_quote_schke, df.quote]).T"
      ],
      "metadata": {
        "id": "VBOXfaP3hMjR"
      },
      "execution_count": null,
      "outputs": [],
      "id": "VBOXfaP3hMjR"
    },
    {
      "cell_type": "markdown",
      "source": [
        "Спел-чеккер отрабатывает достаточно качественно и быстра, затруднения у него возникают при обработке слов с пропусками либо слов имеющих более двух дублирующихся букв. В будущем, желательно провести доочисту корпуса, но сейчас мы ограничимся текущим уронем предобработки. Для контроля, сохраняем корпус в файл формата json"
      ],
      "metadata": {
        "id": "-IRmeCsCsGMe"
      },
      "id": "-IRmeCsCsGMe"
    },
    {
      "cell_type": "code",
      "source": [
        "df_quote_schke.to_json('cintra_phoenix_oils_spellchecked.json')"
      ],
      "metadata": {
        "id": "hnvdVjeqtUWs"
      },
      "id": "hnvdVjeqtUWs",
      "execution_count": null,
      "outputs": []
    },
    {
      "cell_type": "markdown",
      "source": [
        "Сохранив файл двигаемся дальше и подвергаем наш корпус лемматизации"
      ],
      "metadata": {
        "id": "k7uAQUo1tONb"
      },
      "id": "k7uAQUo1tONb"
    },
    {
      "cell_type": "markdown",
      "source": [
        "# Лемматизация"
      ],
      "metadata": {
        "id": "xLAe50BMtm85"
      },
      "id": "xLAe50BMtm85"
    },
    {
      "cell_type": "markdown",
      "source": [
        "Проведём токенизацию с помощью токенайзера NLTK и лемматизацию c помощью пакета pymorhy2"
      ],
      "metadata": {
        "id": "us6StppCdOF6"
      },
      "id": "us6StppCdOF6"
    },
    {
      "cell_type": "code",
      "execution_count": null,
      "id": "0d96558c-25b7-41f5-8cd8-d84787df7cf2",
      "metadata": {
        "id": "0d96558c-25b7-41f5-8cd8-d84787df7cf2"
      },
      "outputs": [],
      "source": [
        "from nltk.tokenize import word_tokenize\n"
      ]
    },
    {
      "cell_type": "code",
      "source": [
        "import nltk\n",
        "nltk.download('punkt_tab')"
      ],
      "metadata": {
        "id": "3CaCJoNz0SpF"
      },
      "id": "3CaCJoNz0SpF",
      "execution_count": null,
      "outputs": []
    },
    {
      "cell_type": "code",
      "source": [
        "!pip install pymorphy2\n",
        "from pymorphy2 import MorphAnalyzer\n",
        "\n",
        "parser = MorphAnalyzer()\n",
        "\n",
        "def toklem_preproc(series):\n",
        "    tokenized = word_tokenize(series)\n",
        "    clean_text = [word for word in tokenized if word not in sw]\n",
        "    lemmatized = [parser.parse(word)[0].normal_form for word in clean_text]\n",
        "\n",
        "    return lemmatized"
      ],
      "metadata": {
        "id": "jVtseunhxe4g"
      },
      "id": "jVtseunhxe4g",
      "execution_count": null,
      "outputs": []
    },
    {
      "cell_type": "code",
      "source": [
        "tlp=df_quote_schke.apply(toklem_preproc)"
      ],
      "metadata": {
        "id": "YR3NGRV6zmJm"
      },
      "id": "YR3NGRV6zmJm",
      "execution_count": null,
      "outputs": []
    },
    {
      "cell_type": "code",
      "source": [
        "tlp"
      ],
      "metadata": {
        "id": "7-4EiX9W0chW"
      },
      "id": "7-4EiX9W0chW",
      "execution_count": null,
      "outputs": []
    },
    {
      "cell_type": "code",
      "source": [
        "a=\" \".join(df.quote).split()\n",
        "print(a)"
      ],
      "metadata": {
        "id": "o0R0PH13CKE7"
      },
      "id": "o0R0PH13CKE7",
      "execution_count": null,
      "outputs": []
    },
    {
      "cell_type": "markdown",
      "source": [
        "Для тематического моделирования, мы будем использовать пакет Gensim. Создадим в нём словарь, отфильтровав из него слова с долей встречаемости в текстах более 0.1 и количеством документов в которых они встречаются, не менее 3. После этого создаём корпус и передаём его для в функцию сознания модели латентного размещения Дирихле"
      ],
      "metadata": {
        "id": "VqKhE5Fydxvo"
      },
      "id": "VqKhE5Fydxvo"
    },
    {
      "cell_type": "code",
      "source": [],
      "metadata": {
        "id": "S9HYlB-V23Y1"
      },
      "id": "S9HYlB-V23Y1",
      "execution_count": null,
      "outputs": []
    },
    {
      "cell_type": "code",
      "source": [
        "import gensim\n",
        "\n",
        "gensim_dictionary = gensim.corpora.Dictionary(tlp)\n",
        "gensim_dictionary.filter_extremes(no_above=0.1, no_below=3)\n",
        "gensim_dictionary.compactify()\n",
        "corpus = [gensim_dictionary.doc2bow(txt) for txt in tlp]\n",
        "lda_10 = gensim.models.LdaMulticore(corpus,\n",
        "                                 num_topics=10,\n",
        "                                 id2word=gensim_dictionary,\n",
        "                                 passes=50, random_state=42)"
      ],
      "metadata": {
        "id": "X1_uKPK-23h-"
      },
      "id": "X1_uKPK-23h-",
      "execution_count": null,
      "outputs": []
    },
    {
      "cell_type": "code",
      "source": [
        "lda_10.print_topics()"
      ],
      "metadata": {
        "id": "hw68QcWN38ZG"
      },
      "id": "hw68QcWN38ZG",
      "execution_count": null,
      "outputs": []
    },
    {
      "cell_type": "markdown",
      "source": [
        "Мы видим, что тематическое моделирование позволяет нам выделить следующие темы:"
      ],
      "metadata": {
        "id": "9Zut8KIthUn3"
      },
      "id": "9Zut8KIthUn3"
    },
    {
      "cell_type": "markdown",
      "source": [
        "0) Ивент-менеджмент\n",
        "\n",
        "1) Оборудование\n",
        "\n",
        "2) Сбытовые операции\n",
        "\n",
        "3) Сравнение условий оплаты труда в компаниях-конкурентах\n",
        "\n",
        "4) Схема оплаты труда\n",
        "\n",
        "5) Производственный процесс\n",
        "\n",
        "6) Маркетинг\n",
        "\n",
        "7) Возможно круглосуточная торговля\n",
        "\n",
        "8) Система квартального и годового премирования\n",
        "\n",
        "9) Отношения в коллективе\n",
        "\n",
        "\n",
        "\n"
      ],
      "metadata": {
        "id": "KidbHJNQASKZ"
      },
      "id": "KidbHJNQASKZ"
    },
    {
      "cell_type": "code",
      "source": [
        "gensim_dictionary = gensim.corpora.Dictionary(tlp)\n",
        "gensim_dictionary.filter_extremes(no_above=0.1, no_below=3)\n",
        "gensim_dictionary.compactify()\n",
        "corpus = [gensim_dictionary.doc2bow(txt) for txt in tlp]\n",
        "lda_10 = gensim.models.LdaMulticore(corpus,\n",
        "                                 num_topics=10,\n",
        "                                 id2word=gensim_dictionary,\n",
        "                                 passes=100, random_state=42)\n",
        "\n",
        "text_to_classify_1='Когда новый палантир будет'\n",
        "new_text_corpus_1 =  id2word.doc2bow(text_to_classify_1.split())\n",
        "lda_10[new_text_corpus_1]"
      ],
      "metadata": {
        "id": "2IGpc2IbK6mQ"
      },
      "id": "2IGpc2IbK6mQ",
      "execution_count": null,
      "outputs": []
    },
    {
      "cell_type": "code",
      "source": [
        "lda_10.show_topics(num_topics=10, num_words=10, formatted=True)"
      ],
      "metadata": {
        "id": "62nrX0MY-hCE"
      },
      "id": "62nrX0MY-hCE",
      "execution_count": null,
      "outputs": []
    },
    {
      "cell_type": "code",
      "source": [],
      "metadata": {
        "id": "Aa4Ekeb5_583"
      },
      "id": "Aa4Ekeb5_583",
      "execution_count": null,
      "outputs": []
    },
    {
      "cell_type": "markdown",
      "source": [
        "# Обсуждение результатов\n",
        "\n",
        "\n",
        "\n",
        "1.   Нам удалось выделить 10 тем к которым предположительно относятся документы созданные самопишущим цидарийским пером.\n",
        "2.  LDA позволяет обновлять корус (update), а также предсказывать класс текста.\n",
        "\n"
      ],
      "metadata": {
        "id": "74t-oBHakSa9"
      },
      "id": "74t-oBHakSa9"
    }
  ],
  "metadata": {
    "kernelspec": {
      "display_name": "DeepPavlov",
      "language": "python",
      "name": "deeppavlov"
    },
    "language_info": {
      "codemirror_mode": {
        "name": "ipython",
        "version": 3
      },
      "file_extension": ".py",
      "mimetype": "text/x-python",
      "name": "python",
      "nbconvert_exporter": "python",
      "pygments_lexer": "ipython3",
      "version": "3.11.10"
    },
    "colab": {
      "provenance": [],
      "include_colab_link": true
    }
  },
  "nbformat": 4,
  "nbformat_minor": 5
}